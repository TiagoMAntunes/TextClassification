{
 "cells": [
  {
   "cell_type": "code",
   "execution_count": 31,
   "id": "baf26aa9",
   "metadata": {},
   "outputs": [],
   "source": [
    "import pytreebank\n",
    "import numpy as np\n",
    "import torch\n",
    "import sys\n",
    "import argparse\n",
    "from glove_reader import GloveReader\n",
    "from gensim.utils import tokenize\n",
    "import itertools\n",
    "from model import RNN\n",
    "import time\n",
    "from dataloader import SST\n",
    "import pandas as pd\n",
    "\n",
    "def transform_and_pad(data):\n",
    "    \"\"\"\n",
    "        Given the input dataset, returns three tensors of the padded data (on the left!)\n",
    "        Returns:\n",
    "            content - Tensor Nxd\n",
    "            labels  - Tensor Nx1\n",
    "            mask    - Tensor Nxd (binary)\n",
    "        \n",
    "    \"\"\"\n",
    "    max_len = max(map(lambda x: len(x[1:]), data))\n",
    "    labels = torch.tensor(list(map(lambda x: x[0], data)))\n",
    "    data = list(map(lambda x: x[1:], data))\n",
    "    content = torch.tensor([(0,)*(max_len - len(x)) + x for x in data])\n",
    "    content_mask = torch.tensor([(0,)*(max_len - len(x)) + (1,) * len(x) for x in data])\n",
    "    return content, labels, content_mask"
   ]
  },
  {
   "cell_type": "code",
   "execution_count": 2,
   "id": "0daba165",
   "metadata": {},
   "outputs": [],
   "source": [
    "def validate(model, dev_dataset):\n",
    "    dev = torch.utils.data.DataLoader(dev_dataset, batch_size=len(dev_dataset), num_workers=4, shuffle=False)\n",
    "    \n",
    "    model.eval()\n",
    "    \n",
    "    loss_fn = torch.nn.CrossEntropyLoss()\n",
    "\n",
    "    total_count = 0\n",
    "    num_correct = 0\n",
    "    tot_loss = 0.0\n",
    "    \n",
    "    for batch in dev:\n",
    "        data, labels, mask = batch\n",
    "        \n",
    "        output = model(data,mask)\n",
    "        tot_loss += loss_fn(output, labels).item()\n",
    "        \n",
    "        pred = torch.argmax(output, 1)\n",
    "        num_correct += (pred == labels).sum().item()\n",
    "        total_count += pred.size(0)\n",
    "\n",
    "    model.train()\n",
    "    return num_correct / total_count, tot_loss\n"
   ]
  },
  {
   "cell_type": "code",
   "execution_count": 66,
   "id": "0a464f8b",
   "metadata": {},
   "outputs": [],
   "source": [
    "def train(model, train_dataset, dev_dataset, max_epochs=50, model_name='model.save', stopping_counter=10):\n",
    "\n",
    "    losses = []\n",
    "    accs = []\n",
    "    dev_losses = []\n",
    "    dev_accs = []\n",
    "    \n",
    "    optimizer = torch.optim.Adam(model.parameters())\n",
    "    loss_fn = torch.nn.CrossEntropyLoss()\n",
    "    \n",
    "    best_loss = float('+inf')\n",
    "    best_model = model\n",
    "    \n",
    "    counter = 0\n",
    "    \n",
    "    train = torch.utils.data.DataLoader(train_dataset, batch_size=64, num_workers=4, shuffle=True)\n",
    "    model.train()\n",
    "    for epoch in range(max_epochs):\n",
    "        print(\"-\" * 10 , \"EPOCH \", epoch,  \"-\"*10)\n",
    "        \n",
    "        num_correct = 0.0\n",
    "        total_count = 0.0\n",
    "        start = time.time()\n",
    "        epoch_loss = 0.0\n",
    "        \n",
    "        for i, batch in enumerate(train):\n",
    "            if i + 1 % 100 == 0:\n",
    "                print('Batch ', i)\n",
    "            \n",
    "            data, labels, mask = batch\n",
    "            \n",
    "            optimizer.zero_grad()\n",
    "\n",
    "            output = model(data, mask)\n",
    "            loss = loss_fn(output, labels)\n",
    "            loss.backward()\n",
    "            optimizer.step()\n",
    "\n",
    "            pred = torch.argmax(output, 1)\n",
    "            num_correct += (pred == labels).sum().item()\n",
    "            total_count += pred.size(0)\n",
    "            epoch_loss += loss.item()\n",
    "        \n",
    "        \n",
    "        losses.append(epoch_loss / (i+1))\n",
    "        accs.append(num_correct / total_count)\n",
    "    \n",
    "        end = time.time()\n",
    "        \n",
    "        counter += 1 # for early stopping\n",
    "        \n",
    "        eval_acc, eval_loss = validate(model, dev_dataset)\n",
    "        \n",
    "        print(f'Loss={losses[-1]}, Accuracy={accs[-1]}, Dev Accuracy={eval_acc}, epoch took {end - start}s')\n",
    "        \n",
    "        dev_losses.append(eval_loss)\n",
    "        dev_accs.append(eval_acc)\n",
    "        \n",
    "        if eval_loss < best_loss:\n",
    "            best_loss = eval_loss\n",
    "            best_model = model\n",
    "            counter = 0\n",
    "            print(\"Saving new best model...\")\n",
    "            torch.save(best_model.state_dict(), model_name)\n",
    "        \n",
    "        \n",
    "        if counter == stopping_counter:\n",
    "            return losses, accs, dev_losses, dev_accs\n",
    "\n"
   ]
  },
  {
   "cell_type": "code",
   "execution_count": 4,
   "id": "133ecce3",
   "metadata": {},
   "outputs": [],
   "source": [
    "def load_data(path):\n",
    "    data = pytreebank.import_tree_corpus(path)\n",
    "    data = list(map(lambda x: x.to_labeled_lines()[0], data))\n",
    "\n",
    "    # tokenizes and filters those words that exist in the dictionary for each example\n",
    "    data = list(map(lambda x: (x[0], list(filter(lambda x: x in glove.words2idx, tokenize(x[1], lower=True)))), data))\n",
    "\n",
    "    # transforms words into numbers\n",
    "    data = list(map(lambda x: (x[0],*list(map(lambda y: glove.words2idx[y], x[1]))), data))\n",
    "\n",
    "    # pad data and transform tensor\n",
    "    content, labels, mask = transform_and_pad(data)\n",
    "    del data\n",
    "    \n",
    "    return content, labels, mask"
   ]
  },
  {
   "cell_type": "code",
   "execution_count": 5,
   "id": "91f32d46",
   "metadata": {},
   "outputs": [],
   "source": [
    "#loads glove embeddings\n",
    "glove = GloveReader()"
   ]
  },
  {
   "cell_type": "code",
   "execution_count": 6,
   "id": "c946a07d",
   "metadata": {},
   "outputs": [],
   "source": [
    "#load train dataset\n",
    "train_data = SST(*load_data('./trees/train.txt'))"
   ]
  },
  {
   "cell_type": "code",
   "execution_count": 7,
   "id": "9854108b",
   "metadata": {},
   "outputs": [],
   "source": [
    "# load dev dataset\n",
    "dev_data = SST(*load_data('./trees/dev.txt'))"
   ]
  },
  {
   "cell_type": "code",
   "execution_count": 67,
   "id": "38a2d2cd",
   "metadata": {},
   "outputs": [],
   "source": [
    "m  = RNN(300, 2, 128, 5, pretrained_embeddings=glove.embeddings, dropout=0.2)"
   ]
  },
  {
   "cell_type": "code",
   "execution_count": 68,
   "id": "c467fd0a",
   "metadata": {},
   "outputs": [
    {
     "name": "stdout",
     "output_type": "stream",
     "text": [
      "---------- EPOCH  0 ----------\n",
      "Loss=1.5560051861094004, Accuracy=0.3154260299625468, Dev Accuracy=0.3387829246139873, epoch took 7.925465822219849s\n",
      "Saving new best model...\n",
      "---------- EPOCH  1 ----------\n",
      "Loss=1.5615971355295892, Accuracy=0.3089887640449438, Dev Accuracy=0.3605812897366031, epoch took 8.220098972320557s\n",
      "Saving new best model...\n",
      "---------- EPOCH  2 ----------\n",
      "Loss=1.5364269347333197, Accuracy=0.34913389513108617, Dev Accuracy=0.3133514986376022, epoch took 7.814146280288696s\n",
      "---------- EPOCH  3 ----------\n",
      "Loss=1.5417403258494478, Accuracy=0.3404728464419476, Dev Accuracy=0.36603088101725706, epoch took 7.788623571395874s\n",
      "Saving new best model...\n",
      "---------- EPOCH  4 ----------\n",
      "Loss=1.5015873926789014, Accuracy=0.382373595505618, Dev Accuracy=0.3614895549500454, epoch took 7.713435649871826s\n",
      "Saving new best model...\n",
      "---------- EPOCH  5 ----------\n",
      "Loss=1.493743078922158, Accuracy=0.39302434456928836, Dev Accuracy=0.39691189827429607, epoch took 7.770105361938477s\n",
      "Saving new best model...\n",
      "---------- EPOCH  6 ----------\n",
      "Loss=1.4800320107545426, Accuracy=0.40578183520599254, Dev Accuracy=0.40417801998183467, epoch took 7.7304770946502686s\n",
      "Saving new best model...\n",
      "---------- EPOCH  7 ----------\n",
      "Loss=1.4703376622342352, Accuracy=0.42146535580524347, Dev Accuracy=0.3533151680290645, epoch took 7.776040315628052s\n",
      "---------- EPOCH  8 ----------\n",
      "Loss=1.4891729853046474, Accuracy=0.40039794007490637, Dev Accuracy=0.28247048138056313, epoch took 7.897488355636597s\n",
      "---------- EPOCH  9 ----------\n",
      "Loss=1.482750554582966, Accuracy=0.40613295880149813, Dev Accuracy=0.3642143505903724, epoch took 8.244982242584229s\n",
      "---------- EPOCH  10 ----------\n",
      "Loss=1.4535405876031562, Accuracy=0.43433988764044945, Dev Accuracy=0.371480472297911, epoch took 7.2046120166778564s\n",
      "---------- EPOCH  11 ----------\n",
      "Loss=1.449348554682376, Accuracy=0.4387874531835206, Dev Accuracy=0.37329700272479566, epoch took 7.937447786331177s\n",
      "---------- EPOCH  12 ----------\n",
      "Loss=1.441031842089411, Accuracy=0.45049157303370785, Dev Accuracy=0.3823796548592189, epoch took 7.832367658615112s\n",
      "---------- EPOCH  13 ----------\n",
      "Loss=1.4269200091931358, Accuracy=0.46711142322097376, Dev Accuracy=0.34332425068119893, epoch took 7.609401702880859s\n",
      "---------- EPOCH  14 ----------\n",
      "Loss=1.4192663359997877, Accuracy=0.4772940074906367, Dev Accuracy=0.3896457765667575, epoch took 7.857249736785889s\n",
      "---------- EPOCH  15 ----------\n",
      "Loss=1.4186205766094264, Accuracy=0.47846441947565543, Dev Accuracy=0.36693914623069934, epoch took 7.765110969543457s\n",
      "---------- EPOCH  16 ----------\n",
      "Loss=1.4161438933059352, Accuracy=0.48103932584269665, Dev Accuracy=0.36966394187102636, epoch took 7.603893280029297s\n"
     ]
    }
   ],
   "source": [
    "losses, accs, dev_losses, dev_accs = train(m, train_data, dev_data, model_name=\"dropout_model.save\")"
   ]
  },
  {
   "cell_type": "code",
   "execution_count": 73,
   "id": "150a36de",
   "metadata": {},
   "outputs": [
    {
     "data": {
      "text/plain": [
       "<AxesSubplot:>"
      ]
     },
     "execution_count": 73,
     "metadata": {},
     "output_type": "execute_result"
    },
    {
     "data": {
      "image/png": "[encoded data removed]",
      "text/plain": [
       "<Figure size 432x288 with 1 Axes>"
      ]
     },
     "metadata": {
      "needs_background": "light"
     },
     "output_type": "display_data"
    }
   ],
   "source": [
    "pd.DataFrame(np.array([losses,dev_losses]).T).plot()"
   ]
  },
  {
   "cell_type": "code",
   "execution_count": 49,
   "id": "492fc2ba",
   "metadata": {},
   "outputs": [
    {
     "data": {
      "text/plain": [
       "([0.3061797752808989,\n",
       "  0.3669241573033708,\n",
       "  0.3819054307116105,\n",
       "  0.39091760299625467,\n",
       "  0.399812734082397,\n",
       "  0.39922752808988765,\n",
       "  0.43586142322097376,\n",
       "  0.4324672284644195,\n",
       "  0.4442883895131086,\n",
       "  0.4544709737827715,\n",
       "  0.47401685393258425,\n",
       "  0.46898408239700373],\n",
       " [0.3578564940962761,\n",
       "  0.3605812897366031,\n",
       "  0.35149863760217986,\n",
       "  0.3860127157129882,\n",
       "  0.3960036330608538,\n",
       "  0.36239782016348776,\n",
       "  0.3860127157129882,\n",
       "  0.3905540417801998,\n",
       "  0.329700272479564,\n",
       "  0.36603088101725706,\n",
       "  0.37329700272479566,\n",
       "  0.35513169845594916])"
      ]
     },
     "execution_count": 49,
     "metadata": {},
     "output_type": "execute_result"
    }
   ],
   "source": []
  },
  {
   "cell_type": "code",
   "execution_count": 70,
   "id": "f0d62c75",
   "metadata": {},
   "outputs": [
    {
     "data": {
      "text/plain": [
       "<AxesSubplot:>"
      ]
     },
     "execution_count": 70,
     "metadata": {},
     "output_type": "execute_result"
    },
    {
     "data": {
      "image/png": "[encoded data removed]",
      "text/plain": [
       "<Figure size 432x288 with 1 Axes>"
      ]
     },
     "metadata": {
      "needs_background": "light"
     },
     "output_type": "display_data"
    }
   ],
   "source": [
    "pd.DataFrame(np.array([accs, dev_accs])).T.plot()"
   ]
  }
 ],
 "metadata": {
  "kernelspec": {
   "display_name": "Python 3",
   "language": "python",
   "name": "python3"
  },
  "language_info": {
   "codemirror_mode": {
    "name": "ipython",
    "version": 3
   },
   "file_extension": ".py",
   "mimetype": "text/x-python",
   "name": "python",
   "nbconvert_exporter": "python",
   "pygments_lexer": "ipython3",
   "version": "3.6.9"
  }
 },
 "nbformat": 4,
 "nbformat_minor": 5
}
