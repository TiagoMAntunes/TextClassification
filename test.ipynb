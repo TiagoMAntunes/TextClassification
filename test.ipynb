{
  "nbformat": 4,
  "nbformat_minor": 0,
  "metadata": {
    "colab": {
      "name": "Test",
      "provenance": []
    },
    "kernelspec": {
      "name": "python3",
      "display_name": "Python 3"
    },
    "language_info": {
      "name": "python"
    },
    "accelerator": "GPU"
  },
  "cells": [
    {
      "cell_type": "code",
      "metadata": {
        "id": "Z9_VukHrji7q"
      },
      "source": [
        "!cp /content/drive/MyDrive/textclassification/glove_reader.py .\n",
        "!cp /content/drive/MyDrive/textclassification/model.py .\n",
        "!cp /content/drive/MyDrive/textclassification/dataloader.py .\n",
        "!cp /content/drive/MyDrive/textclassification/glove.6B.300d.txt .\n",
        "!cp /content/drive/MyDrive/textclassification/dataloader.py ."
      ],
      "execution_count": null,
      "outputs": []
    },
    {
      "cell_type": "code",
      "metadata": {
        "colab": {
          "base_uri": "https://localhost:8080/"
        },
        "id": "q87Mp7OYj4rf",
        "outputId": "d9db7dee-a435-42c6-a915-a6f83d3ea440"
      },
      "source": [
        "!pip3 install pytreebank"
      ],
      "execution_count": null,
      "outputs": [
        {
          "output_type": "stream",
          "text": [
            "Requirement already satisfied: pytreebank in /usr/local/lib/python3.7/dist-packages (0.2.7)\n"
          ],
          "name": "stdout"
        }
      ]
    },
    {
      "cell_type": "code",
      "metadata": {
        "id": "XavnCXoQR-r1"
      },
      "source": [
        "import pickle\n",
        "import pandas, numpy as np\n",
        "import torch, torch.nn as nn\n",
        "from model import RNN\n",
        "from dataloader import SST\n",
        "import pytreebank\n",
        "from glove_reader import GloveReader"
      ],
      "execution_count": null,
      "outputs": []
    },
    {
      "cell_type": "code",
      "metadata": {
        "id": "sQM96cPWkyi-"
      },
      "source": [
        "from gensim.utils import tokenize\n",
        "def transform_and_pad(data):\n",
        "    \"\"\"\n",
        "        Given the input dataset, returns three tensors of the padded data (on the left!)\n",
        "        Returns:\n",
        "            content - Tensor Nxd\n",
        "            labels  - Tensor Nx1\n",
        "            mask    - Tensor Nxd (binary)\n",
        "        \n",
        "    \"\"\"\n",
        "    max_len = max(map(lambda x: len(x[1:]), data))\n",
        "    labels = torch.tensor(list(map(lambda x: x[0], data)))\n",
        "    data = list(map(lambda x: x[1:], data))\n",
        "    content = torch.tensor([(0,)*(max_len - len(x)) + x for x in data])\n",
        "    content_mask = torch.tensor([(0,)*(max_len - len(x)) + (1,) * len(x) for x in data])\n",
        "    return content, labels, content_mask\n",
        "    \n",
        "def load_data(path):\n",
        "    data = pytreebank.import_tree_corpus(path)\n",
        "    data = list(map(lambda x: x.to_labeled_lines()[0], data))\n",
        "\n",
        "    # tokenizes and filters those words that exist in the dictionary for each example\n",
        "    data = list(map(lambda x: (x[0], list(filter(lambda x: x in glove.words2idx, tokenize(x[1], lower=True)))), data))\n",
        "\n",
        "    # transforms words into numbers\n",
        "    data = list(map(lambda x: (x[0],*list(map(lambda y: glove.words2idx[y], x[1]))), data))\n",
        "\n",
        "    # pad data and transform tensor\n",
        "    content, labels, mask = transform_and_pad(data)\n",
        "    del data\n",
        "    \n",
        "    return content, labels, mask"
      ],
      "execution_count": null,
      "outputs": []
    },
    {
      "cell_type": "code",
      "metadata": {
        "id": "8IHlz5vPj7kX"
      },
      "source": [
        "glove = GloveReader()"
      ],
      "execution_count": null,
      "outputs": []
    },
    {
      "cell_type": "code",
      "metadata": {
        "id": "SaGCgDD9klct"
      },
      "source": [
        "!cp -r /content/drive/MyDrive/textclassification/trees ."
      ],
      "execution_count": null,
      "outputs": []
    },
    {
      "cell_type": "code",
      "metadata": {
        "id": "ryQX07BQkeGG"
      },
      "source": [
        "test_data = SST(*load_data('./trees/test.txt'))\n",
        "train_data = SST(*load_data('./trees/train.txt'))\n",
        "dev_data = SST(*load_data('./trees/dev.txt'))"
      ],
      "execution_count": null,
      "outputs": []
    },
    {
      "cell_type": "code",
      "metadata": {
        "id": "pEFxSrcRkqWe"
      },
      "source": [
        "from itertools import product\n",
        "configuration = {\n",
        "    'dropout': [0, 0.2],\n",
        "    'hidden_size' : [256, 512],\n",
        "    'n_layers': [1, 3],\n",
        "    'embeddings': [glove.embeddings, None]\n",
        "}\n",
        "model_params = list(product(*configuration.values()))"
      ],
      "execution_count": null,
      "outputs": []
    },
    {
      "cell_type": "code",
      "metadata": {
        "id": "T3ZvgctsnVbF"
      },
      "source": [
        "def validate(model, dataset):\n",
        "    dev = torch.utils.data.DataLoader(dataset, batch_size=len(dataset), num_workers=2, shuffle=False)\n",
        "    \n",
        "    model.eval()\n",
        "    \n",
        "    loss_fn = torch.nn.CrossEntropyLoss()\n",
        "\n",
        "    total_count = 0\n",
        "    num_correct = 0\n",
        "    tot_loss = 0.0\n",
        "    device = \"cuda\" if torch.cuda.is_available() else \"cpu\"\n",
        "    for batch in dev:\n",
        "        data, labels, mask = batch\n",
        "        data = data.to(device)\n",
        "        labels = labels.to(device)\n",
        "        mask = mask.to(device)\n",
        "\n",
        "        output = model(data,mask)\n",
        "        tot_loss += loss_fn(output, labels).item()\n",
        "        \n",
        "        pred = torch.argmax(output, 1)\n",
        "        num_correct += (pred == labels).sum().item()\n",
        "        total_count += pred.size(0)\n",
        "        del data\n",
        "        del labels\n",
        "        del mask\n",
        "\n",
        "    model.train()\n",
        "    return num_correct / total_count, tot_loss\n"
      ],
      "execution_count": null,
      "outputs": []
    },
    {
      "cell_type": "code",
      "metadata": {
        "colab": {
          "base_uri": "https://localhost:8080/"
        },
        "id": "aMc-Q7Lr2Dnv",
        "outputId": "6d5801c2-0cd9-4266-9b03-67652e8da900"
      },
      "source": [
        "import gc\n",
        "gc.collect()"
      ],
      "execution_count": null,
      "outputs": [
        {
          "output_type": "execute_result",
          "data": {
            "text/plain": [
              "166365"
            ]
          },
          "metadata": {
            "tags": []
          },
          "execution_count": 18
        }
      ]
    },
    {
      "cell_type": "code",
      "metadata": {
        "id": "B2OYzjzllII5"
      },
      "source": [
        "import pickle\n",
        "results = []\n",
        "device = \"cuda\" if torch.cuda.is_available() else \"cpu\"\n",
        "for params in model_params:\n",
        "  info = f'{params[0]}_{params[1]}_{params[2]}_{\"glove\" if params[3] is not None else \"default\"}'\n",
        "  model_name = f'/content/drive/MyDrive/textclassification/models/model_{info}'\n",
        "  data_name = f'/content/drive/MyDrive/textclassification/data/data_{info}'\n",
        "\n",
        "  with open(data_name, 'rb') as f:\n",
        "    data = pickle.load(f)\n",
        "  \n",
        "  m = RNN(300, params[2], params[1], 5, pretrained_embeddings=params[3], dropout=params[0])\n",
        "\n",
        "  m.load_state_dict(torch.load(model_name, map_location=device))\n",
        "\n",
        "  test_acc, test_loss = validate(m, test_data)\n",
        "  train_acc, train_loss = validate(m, train_data)\n",
        "  dev_acc, dev_loss = validate(m, dev_data)\n",
        "  results.append({'test_accuracy':test_acc, 'train_acc': train_acc, 'dev_acc': dev_acc, 'test_loss': test_loss, 'train_loss':train_loss, 'dev_loss': dev_loss, 'name': info})\n",
        "\n",
        "  gc.collect()\n",
        "  "
      ],
      "execution_count": null,
      "outputs": []
    },
    {
      "cell_type": "code",
      "metadata": {
        "colab": {
          "base_uri": "https://localhost:8080/"
        },
        "id": "C1U5ic81nLd2",
        "outputId": "3fed38bf-f385-4d56-eb9c-472a4c0f829d"
      },
      "source": [
        "results"
      ],
      "execution_count": null,
      "outputs": [
        {
          "output_type": "execute_result",
          "data": {
            "text/plain": [
              "[{'dev_acc': 0.3923705722070845,\n",
              "  'dev_loss': 1.4872496128082275,\n",
              "  'name': '0_256_1_glove',\n",
              "  'test_accuracy': 0.3927601809954751,\n",
              "  'test_loss': 1.489555835723877,\n",
              "  'train_acc': 0.5801732209737828,\n",
              "  'train_loss': 1.333773136138916},\n",
              " {'dev_acc': 0.3142597638510445,\n",
              "  'dev_loss': 1.5634868144989014,\n",
              "  'name': '0_256_1_default',\n",
              "  'test_accuracy': 0.32036199095022627,\n",
              "  'test_loss': 1.562217354774475,\n",
              "  'train_acc': 0.5470505617977528,\n",
              "  'train_loss': 1.3634068965911865},\n",
              " {'dev_acc': 0.405086285195277,\n",
              "  'dev_loss': 1.4830974340438843,\n",
              "  'name': '0_256_3_glove',\n",
              "  'test_accuracy': 0.40180995475113124,\n",
              "  'test_loss': 1.4855982065200806,\n",
              "  'train_acc': 0.5709269662921348,\n",
              "  'train_loss': 1.326481819152832},\n",
              " {'dev_acc': 0.26067211625794734,\n",
              "  'dev_loss': 1.5761791467666626,\n",
              "  'name': '0_256_3_default',\n",
              "  'test_accuracy': 0.265158371040724,\n",
              "  'test_loss': 1.5806573629379272,\n",
              "  'train_acc': 0.32982209737827717,\n",
              "  'train_loss': 1.5627070665359497},\n",
              " {'dev_acc': 0.37420526793823794,\n",
              "  'dev_loss': 1.5073384046554565,\n",
              "  'name': '0_512_1_glove',\n",
              "  'test_accuracy': 0.37104072398190047,\n",
              "  'test_loss': 1.5066900253295898,\n",
              "  'train_acc': 0.5217696629213483,\n",
              "  'train_loss': 1.3779963254928589},\n",
              " {'dev_acc': 0.25522252497729336,\n",
              "  'dev_loss': 1.5830334424972534,\n",
              "  'name': '0_512_1_default',\n",
              "  'test_accuracy': 0.27330316742081445,\n",
              "  'test_loss': 1.5785447359085083,\n",
              "  'train_acc': 0.3360252808988764,\n",
              "  'train_loss': 1.5522418022155762},\n",
              " {'dev_acc': 0.3787465940054496,\n",
              "  'dev_loss': 1.5195043087005615,\n",
              "  'name': '0_512_3_glove',\n",
              "  'test_accuracy': 0.3746606334841629,\n",
              "  'test_loss': 1.5246526002883911,\n",
              "  'train_acc': 0.6114232209737828,\n",
              "  'train_loss': 1.2912116050720215},\n",
              " {'dev_acc': 0.2779291553133515,\n",
              "  'dev_loss': 1.5748363733291626,\n",
              "  'name': '0_512_3_default',\n",
              "  'test_accuracy': 0.29366515837104074,\n",
              "  'test_loss': 1.5757859945297241,\n",
              "  'train_acc': 0.2999765917602996,\n",
              "  'train_loss': 1.5658913850784302},\n",
              " {'dev_acc': 0.4087193460490463,\n",
              "  'dev_loss': 1.4751843214035034,\n",
              "  'name': '0.2_256_1_glove',\n",
              "  'test_accuracy': 0.41312217194570133,\n",
              "  'test_loss': 1.4776675701141357,\n",
              "  'train_acc': 0.5715121722846442,\n",
              "  'train_loss': 1.3390809297561646},\n",
              " {'dev_acc': 0.3079019073569482,\n",
              "  'dev_loss': 1.579533576965332,\n",
              "  'name': '0.2_256_1_default',\n",
              "  'test_accuracy': 0.3239819004524887,\n",
              "  'test_loss': 1.5624077320098877,\n",
              "  'train_acc': 0.7868679775280899,\n",
              "  'train_loss': 1.1215195655822754},\n",
              " {'dev_acc': 0.3896457765667575,\n",
              "  'dev_loss': 1.497698426246643,\n",
              "  'name': '0.2_256_3_glove',\n",
              "  'test_accuracy': 0.3936651583710407,\n",
              "  'test_loss': 1.4980298280715942,\n",
              "  'train_acc': 0.4305945692883895,\n",
              "  'train_loss': 1.4588900804519653},\n",
              " {'dev_acc': 0.2888283378746594,\n",
              "  'dev_loss': 1.57575523853302,\n",
              "  'name': '0.2_256_3_default',\n",
              "  'test_accuracy': 0.2914027149321267,\n",
              "  'test_loss': 1.5831056833267212,\n",
              "  'train_acc': 0.38284176029962547,\n",
              "  'train_loss': 1.506473183631897},\n",
              " {'dev_acc': 0.3814713896457766,\n",
              "  'dev_loss': 1.4912837743759155,\n",
              "  'name': '0.2_512_1_glove',\n",
              "  'test_accuracy': 0.3941176470588235,\n",
              "  'test_loss': 1.484222650527954,\n",
              "  'train_acc': 0.5242275280898876,\n",
              "  'train_loss': 1.3856054544448853},\n",
              " {'dev_acc': 0.3151680290644868,\n",
              "  'dev_loss': 1.5760806798934937,\n",
              "  'name': '0.2_512_1_default',\n",
              "  'test_accuracy': 0.3208144796380091,\n",
              "  'test_loss': 1.5706697702407837,\n",
              "  'train_acc': 0.870435393258427,\n",
              "  'train_loss': 1.0328171253204346},\n",
              " {'dev_acc': 0.368755676657584,\n",
              "  'dev_loss': 1.523974895477295,\n",
              "  'name': '0.2_512_3_glove',\n",
              "  'test_accuracy': 0.3574660633484163,\n",
              "  'test_loss': 1.5334314107894897,\n",
              "  'train_acc': 0.513810861423221,\n",
              "  'train_loss': 1.386849045753479},\n",
              " {'dev_acc': 0.2997275204359673,\n",
              "  'dev_loss': 1.5733485221862793,\n",
              "  'name': '0.2_512_3_default',\n",
              "  'test_accuracy': 0.2864253393665158,\n",
              "  'test_loss': 1.5874278545379639,\n",
              "  'train_acc': 0.3663389513108614,\n",
              "  'train_loss': 1.5175421237945557}]"
            ]
          },
          "metadata": {
            "tags": []
          },
          "execution_count": 20
        }
      ]
    },
    {
      "cell_type": "code",
      "metadata": {
        "id": "YAQbEdGLqdsU"
      },
      "source": [
        "with open ('/content/drive/MyDrive/textclassification/results.pickle', 'wb') as f:\n",
        "  pickle.dump(results, f)"
      ],
      "execution_count": null,
      "outputs": []
    },
    {
      "cell_type": "code",
      "metadata": {
        "colab": {
          "base_uri": "https://localhost:8080/"
        },
        "id": "mzrb8-Oeq0DX",
        "outputId": "854cf9e8-ede6-46ad-914e-75d598bbec3e"
      },
      "source": [
        "for i,res in enumerate(results):\n",
        "  dropout, hidden_size, n_layers, embeddings = res['name'].split('_')\n",
        "  print(f'{dropout} & {hidden_size} & {n_layers} & {embeddings} & {round(res[\"test_accuracy\"], 4)} & {round(res[\"test_loss\"], 4)} & {round(res[\"train_acc\"],4)} & {round(res[\"dev_acc\"], 4)}\\\\\\\\')\n",
        "  if (i+1) % 2 == 0:\n",
        "    print('\\\\hline')"
      ],
      "execution_count": null,
      "outputs": [
        {
          "output_type": "stream",
          "text": [
            "0 & 256 & 1 & glove & 0.3928 & 1.4896 & 0.5802 & 0.3924\\\\\n",
            "0 & 256 & 1 & default & 0.3204 & 1.5622 & 0.5471 & 0.3143\\\\\n",
            "\\hline\n",
            "0 & 256 & 3 & glove & 0.4018 & 1.4856 & 0.5709 & 0.4051\\\\\n",
            "0 & 256 & 3 & default & 0.2652 & 1.5807 & 0.3298 & 0.2607\\\\\n",
            "\\hline\n",
            "0 & 512 & 1 & glove & 0.371 & 1.5067 & 0.5218 & 0.3742\\\\\n",
            "0 & 512 & 1 & default & 0.2733 & 1.5785 & 0.336 & 0.2552\\\\\n",
            "\\hline\n",
            "0 & 512 & 3 & glove & 0.3747 & 1.5247 & 0.6114 & 0.3787\\\\\n",
            "0 & 512 & 3 & default & 0.2937 & 1.5758 & 0.3 & 0.2779\\\\\n",
            "\\hline\n",
            "0.2 & 256 & 1 & glove & 0.4131 & 1.4777 & 0.5715 & 0.4087\\\\\n",
            "0.2 & 256 & 1 & default & 0.324 & 1.5624 & 0.7869 & 0.3079\\\\\n",
            "\\hline\n",
            "0.2 & 256 & 3 & glove & 0.3937 & 1.498 & 0.4306 & 0.3896\\\\\n",
            "0.2 & 256 & 3 & default & 0.2914 & 1.5831 & 0.3828 & 0.2888\\\\\n",
            "\\hline\n",
            "0.2 & 512 & 1 & glove & 0.3941 & 1.4842 & 0.5242 & 0.3815\\\\\n",
            "0.2 & 512 & 1 & default & 0.3208 & 1.5707 & 0.8704 & 0.3152\\\\\n",
            "\\hline\n",
            "0.2 & 512 & 3 & glove & 0.3575 & 1.5334 & 0.5138 & 0.3688\\\\\n",
            "0.2 & 512 & 3 & default & 0.2864 & 1.5874 & 0.3663 & 0.2997\\\\\n",
            "\\hline\n"
          ],
          "name": "stdout"
        }
      ]
    },
    {
      "cell_type": "code",
      "metadata": {
        "id": "v47f5TpetCOA"
      },
      "source": [
        ""
      ],
      "execution_count": null,
      "outputs": []
    }
  ]
}